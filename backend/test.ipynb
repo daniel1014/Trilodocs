{
 "cells": [
  {
   "cell_type": "code",
   "execution_count": 2,
   "metadata": {},
   "outputs": [
    {
     "data": {
      "text/plain": [
       "[<unstructured.documents.elements.Title at 0x10de10050>,\n",
       " <unstructured.documents.elements.Table at 0x10de12210>,\n",
       " <unstructured.documents.elements.Title at 0x10ddd3490>,\n",
       " <unstructured.documents.elements.Table at 0x10ddd35c0>]"
      ]
     },
     "execution_count": 2,
     "metadata": {},
     "output_type": "execute_result"
    }
   ],
   "source": [
    "from unstructured.partition.auto import partition\n",
    "elements = partition(\"client1_ae.docx\")\n",
    "elements"
   ]
  },
  {
   "cell_type": "code",
   "execution_count": 3,
   "metadata": {},
   "outputs": [
    {
     "name": "stdout",
     "output_type": "stream",
     "text": [
      "Table 2.1.1 Summary of Serious Adverse Events by Treatment Group\n",
      "Preferred Term Placebo Compound X Seizure 1 3 Nausea 0 2 Headache 2 4 Total number of participants with SAE 3 9\n",
      "Table 2.1.2 Adverse Events Leading to Death\n",
      "Preferred Term Placebo Compound X Cardiac Arrest 0 1 Stroke 0 1 Total participants affected by fatal AE 0 2\n"
     ]
    }
   ],
   "source": [
    "for x in elements:\n",
    "    print(x.text)"
   ]
  },
  {
   "cell_type": "code",
   "execution_count": 14,
   "metadata": {},
   "outputs": [
    {
     "name": "stdout",
     "output_type": "stream",
     "text": [
      "Table 2.1.1 Summary of Serious Adverse Events by Treatment Group\n",
      "Preferred Term Placebo Compound X Seizure 1 3 Nausea 0 2 Headache 2 4 Total number of participants with SAE 3 9\n",
      "Table 2.1.2 Adverse Events Leading to Death\n",
      "Preferred Term Placebo Compound X Cardiac Arrest 0 1 Stroke 0 1 Total participants affected by fatal AE 0 2\n"
     ]
    }
   ],
   "source": [
    "text = \"\\n\".join([el.text for el in elements])\n",
    "print(text)"
   ]
  },
  {
   "cell_type": "code",
   "execution_count": null,
   "metadata": {},
   "outputs": [],
   "source": []
  }
 ],
 "metadata": {
  "kernelspec": {
   "display_name": ".venv",
   "language": "python",
   "name": "python3"
  },
  "language_info": {
   "codemirror_mode": {
    "name": "ipython",
    "version": 3
   },
   "file_extension": ".py",
   "mimetype": "text/x-python",
   "name": "python",
   "nbconvert_exporter": "python",
   "pygments_lexer": "ipython3",
   "version": "3.13.3"
  }
 },
 "nbformat": 4,
 "nbformat_minor": 2
}
